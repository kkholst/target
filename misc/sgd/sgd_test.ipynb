{
 "cells": [
  {
   "cell_type": "code",
   "execution_count": null,
   "metadata": {},
   "outputs": [],
   "source": [
    "!pip3 install -e /Users/gva/Documents/PhD/workspace/target/misc/sgd/"
   ]
  },
  {
   "cell_type": "code",
   "execution_count": null,
   "metadata": {},
   "outputs": [],
   "source": [
    "from sgd import *\n",
    "import time\n",
    "from numpy import genfromtxt\n",
    "# from sklearn.preprocessing import normalize"
   ]
  },
  {
   "cell_type": "code",
   "execution_count": null,
   "metadata": {},
   "outputs": [],
   "source": [
    "#data = sm.datasets.scotland.load()\n",
    "#data.exog = sm.add_constant(data.exog, prepend=False)\n",
    "#D = data_set(data.exog, data.endog)"
   ]
  },
  {
   "cell_type": "code",
   "execution_count": null,
   "metadata": {},
   "outputs": [],
   "source": [
    "data = genfromtxt('glm_test.csv', delimiter=',', encoding='UTF-8', skip_header=1)"
   ]
  },
  {
   "cell_type": "code",
   "execution_count": null,
   "metadata": {},
   "outputs": [],
   "source": [
    "D = data_set(data[:,1:], data[:,0])"
   ]
  },
  {
   "cell_type": "code",
   "execution_count": null,
   "metadata": {},
   "outputs": [],
   "source": [
    "#data = sm.datasets.scotland.load(as_pandas=True)\n",
    "#data.exog = sm.add_constant(data.exog, prepend=False)\n",
    "#data.exog[\"RESPONSE\"] = data.endog\n",
    "#data.exog.to_csv(os.path.join(\"~/Documents/PhD/workspace/target/misc/glm_test.csv\"), index=False, encoding='UTF-8')"
   ]
  },
  {
   "cell_type": "code",
   "execution_count": null,
   "metadata": {},
   "outputs": [],
   "source": [
    "m = glm(0.0, 0.0, \"gaussian\", \"identity\")"
   ]
  },
  {
   "cell_type": "code",
   "execution_count": null,
   "metadata": {},
   "outputs": [],
   "source": [
    "glm_bnch = sm.GLM(D._Y, D._X, family = sm.families.Gaussian())\n",
    "true_est = glm_bnch.fit()"
   ]
  },
  {
   "cell_type": "code",
   "execution_count": null,
   "metadata": {},
   "outputs": [],
   "source": [
    "print(true_est.summary())"
   ]
  },
  {
   "cell_type": "code",
   "execution_count": null,
   "metadata": {},
   "outputs": [],
   "source": [
    "timer = time\n",
    "n, p = D._X.shape\n",
    "\n",
    "details = {\"method\": \"explicit\", \"nparams\": p, \"reltol\": 1e-10, \"npasses\": 10,\\\n",
    "               \"size\": 10, \"pass\": True, \"check\": True, \"truth\": np.ones(p) }\n",
    "\n",
    "# tester = ExplicitSGD(n, timer, **details)\n",
    "tester = ImplicitSGD(n, timer, **details)"
   ]
  },
  {
   "cell_type": "code",
   "execution_count": null,
   "metadata": {},
   "outputs": [],
   "source": [
    "n_samples = n\n",
    "n_features = p\n",
    "n_passes = tester.get_value_of(\"n_passes\")"
   ]
  },
  {
   "cell_type": "code",
   "execution_count": null,
   "metadata": {},
   "outputs": [],
   "source": [
    "good_gradient = True\n",
    "good_validity = True\n",
    "averaging = True"
   ]
  },
  {
   "cell_type": "code",
   "execution_count": null,
   "metadata": {
    "code_folding": []
   },
   "outputs": [],
   "source": [
    "theta_old = np.ones(p) / 10.0\n",
    "theta_old_ave = theta_old\n",
    "max_iters = n_samples * n_passes\n",
    "do_more_iterations = True\n",
    "converged = False\n",
    "\n",
    "t = 1\n",
    "\n",
    "theta_new = np.ones(p)\n",
    "theta_new_ave = np.ones(p)\n",
    "while do_more_iterations:\n",
    "    theta_new = tester.update(t, theta_old, D, m, good_gradient)\n",
    "    if averaging:\n",
    "        if t != 1: theta_new_ave = (1.0 - 1.0/float(t)) * theta_old_ave + (1.0/float(t)) * theta_new\n",
    "        else: theta_new_ave = theta_new\n",
    "        tester.sync_members(theta_new_ave)\n",
    "        converged = tester.convergence(theta_new_ave, theta_old_ave)\n",
    "        theta_old_ave = theta_new_ave\n",
    "    else:\n",
    "        tester.sync_members(theta_new)\n",
    "        converged = tester.convergence(theta_new, theta_old)\n",
    "    if converged: do_more_iterations = False\n",
    "    theta_old = theta_new\n",
    "    if t == max_iters: do_more_iterations = False\n",
    "    t += 1"
   ]
  },
  {
   "cell_type": "code",
   "execution_count": null,
   "metadata": {},
   "outputs": [],
   "source": [
    "theta_new"
   ]
  },
  {
   "cell_type": "code",
   "execution_count": null,
   "metadata": {},
   "outputs": [],
   "source": [
    "converged"
   ]
  },
  {
   "cell_type": "code",
   "execution_count": null,
   "metadata": {},
   "outputs": [],
   "source": []
  }
 ],
 "metadata": {
  "kernelspec": {
   "display_name": "Python 3",
   "language": "python",
   "name": "python3"
  },
  "language_info": {
   "codemirror_mode": {
    "name": "ipython",
    "version": 3
   },
   "file_extension": ".py",
   "mimetype": "text/x-python",
   "name": "python",
   "nbconvert_exporter": "python",
   "pygments_lexer": "ipython3",
   "version": "3.7.7"
  }
 },
 "nbformat": 4,
 "nbformat_minor": 4
}
