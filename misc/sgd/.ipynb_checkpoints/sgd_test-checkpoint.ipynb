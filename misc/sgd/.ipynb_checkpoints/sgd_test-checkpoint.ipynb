{
 "cells": [
  {
   "cell_type": "code",
   "execution_count": 1,
   "metadata": {},
   "outputs": [],
   "source": [
    "from sgd.family import *\n",
    "from sgd.transfer import *\n",
    "from sgd.explicit_sgd import *\n",
    "from sgd.glm import *\n",
    "import time\n",
    "from numpy import genfromtxt\n",
    "# from sklearn.preprocessing import normalize"
   ]
  },
  {
   "cell_type": "code",
   "execution_count": null,
   "metadata": {},
   "outputs": [],
   "source": [
    "#data = sm.datasets.scotland.load()\n",
    "#data.exog = sm.add_constant(data.exog, prepend=False)\n",
    "#D = data_set(data.exog, data.endog)"
   ]
  },
  {
   "cell_type": "code",
   "execution_count": 2,
   "metadata": {},
   "outputs": [],
   "source": [
    "data = genfromtxt('glm_test.csv', delimiter=',', encoding='UTF-8', skip_header=1)"
   ]
  },
  {
   "cell_type": "code",
   "execution_count": 3,
   "metadata": {},
   "outputs": [],
   "source": [
    "D = data_set(data[:,1:], data[:,0])"
   ]
  },
  {
   "cell_type": "code",
   "execution_count": null,
   "metadata": {},
   "outputs": [],
   "source": [
    "#data = sm.datasets.scotland.load(as_pandas=True)\n",
    "#data.exog = sm.add_constant(data.exog, prepend=False)\n",
    "#data.exog[\"RESPONSE\"] = data.endog\n",
    "#data.exog.to_csv(os.path.join(\"~/Documents/PhD/workspace/target/misc/glm_test.csv\"), index=False, encoding='UTF-8')"
   ]
  },
  {
   "cell_type": "code",
   "execution_count": 4,
   "metadata": {},
   "outputs": [],
   "source": [
    "m = glm(0.0, 0.0, \"gaussian\", \"identity\")"
   ]
  },
  {
   "cell_type": "code",
   "execution_count": 5,
   "metadata": {},
   "outputs": [],
   "source": [
    "glm_bnch = sm.GLM(D._Y, D._X, family = sm.families.Gaussian())\n",
    "true_est = glm_bnch.fit()"
   ]
  },
  {
   "cell_type": "code",
   "execution_count": 6,
   "metadata": {},
   "outputs": [
    {
     "name": "stdout",
     "output_type": "stream",
     "text": [
      "                 Generalized Linear Model Regression Results                  \n",
      "==============================================================================\n",
      "Dep. Variable:                      y   No. Observations:               100000\n",
      "Model:                            GLM   Df Residuals:                    99990\n",
      "Model Family:                Gaussian   Df Model:                            9\n",
      "Link Function:               identity   Scale:                          1.9995\n",
      "Method:                          IRLS   Log-Likelihood:            -1.7653e+05\n",
      "Date:                Fri, 26 Jun 2020   Deviance:                   1.9993e+05\n",
      "Time:                        11:51:08   Pearson chi2:                 2.00e+05\n",
      "No. Iterations:                     3                                         \n",
      "Covariance Type:            nonrobust                                         \n",
      "==============================================================================\n",
      "                 coef    std err          z      P>|z|      [0.025      0.975]\n",
      "------------------------------------------------------------------------------\n",
      "x1             1.0008      0.004    224.567      0.000       0.992       1.010\n",
      "x2             1.0042      0.004    224.611      0.000       0.995       1.013\n",
      "x3             1.0011      0.004    224.623      0.000       0.992       1.010\n",
      "x4             1.0019      0.004    223.724      0.000       0.993       1.011\n",
      "x5             0.9960      0.004    223.754      0.000       0.987       1.005\n",
      "x6             0.9990      0.004    222.847      0.000       0.990       1.008\n",
      "x7             0.9900      0.004    221.765      0.000       0.981       0.999\n",
      "x8             1.0043      0.004    225.511      0.000       0.996       1.013\n",
      "x9             0.9921      0.004    221.765      0.000       0.983       1.001\n",
      "x10            1.0029      0.004    224.167      0.000       0.994       1.012\n",
      "==============================================================================\n"
     ]
    }
   ],
   "source": [
    "print(true_est.summary())"
   ]
  },
  {
   "cell_type": "code",
   "execution_count": 7,
   "metadata": {},
   "outputs": [],
   "source": [
    "timer = time\n",
    "n, p = D._X.shape\n",
    "\n",
    "details = {\"method\": \"explicit\", \"nparams\": p, \"reltol\": 1e-10, \"npasses\": 10,\\\n",
    "               \"size\": 10, \"pass\": True, \"check\": True, \"truth\": true_est._results.params }\n",
    "tester = ExplicitSGD(n, timer, **details)"
   ]
  },
  {
   "cell_type": "code",
   "execution_count": 8,
   "metadata": {},
   "outputs": [],
   "source": [
    "n_samples = n\n",
    "n_features = p\n",
    "n_passes = tester.get_value_of(\"n_passes\")"
   ]
  },
  {
   "cell_type": "code",
   "execution_count": 9,
   "metadata": {},
   "outputs": [],
   "source": [
    "good_gradient = True\n",
    "good_validity = True\n",
    "averaging = True"
   ]
  },
  {
   "cell_type": "code",
   "execution_count": 10,
   "metadata": {
    "code_folding": []
   },
   "outputs": [],
   "source": [
    "theta_old = np.ones(p) / 10.0\n",
    "theta_old_ave = theta_old\n",
    "max_iters = n_samples * n_passes\n",
    "do_more_iterations = True\n",
    "converged = False\n",
    "\n",
    "t = 1\n",
    "\n",
    "theta_new = np.ones(p)\n",
    "theta_new_ave = np.ones(p)\n",
    "while do_more_iterations:\n",
    "    #print((D.get_data_point(t)._y - m._transfer_instance.h(\n",
    "    #    D.get_data_point(t)._x @ theta_old)) * D.get_data_point(t)._x)\n",
    "    theta_new = tester.update(t, theta_old, D, m, good_gradient)\n",
    "    # print(m.gradient(t, theta_old, D))\n",
    "    theta_new = theta_old + ((1.0 / t) * m.gradient(t, theta_old, D))\n",
    "    if averaging:\n",
    "        if t != 1: theta_new_ave = (1.0 - 1.0/float(t)) * theta_old_ave + (1.0/float(t)) * theta_new\n",
    "        else: theta_new_ave = theta_new\n",
    "        tester.sync_members(theta_new_ave)\n",
    "        converged = tester.convergence(theta_new_ave, theta_old_ave)\n",
    "        # converged = np.mean((theta_new - true_est._results.params) ** 2) < 0.01\n",
    "        theta_old_ave = theta_new_ave\n",
    "    else:\n",
    "        tester.sync_members(theta_new)\n",
    "        converged = tester.convergence(theta_new, theta_old)\n",
    "        # converged = np.mean((theta_new - theta_old) ** 2) < 0.01\n",
    "    if converged: do_more_iterations = False\n",
    "    theta_old = theta_new\n",
    "    if t == max_iters: do_more_iterations = False\n",
    "    t += 1"
   ]
  },
  {
   "cell_type": "code",
   "execution_count": 11,
   "metadata": {},
   "outputs": [
    {
     "data": {
      "text/plain": [
       "array([0.97445803, 1.0010057 , 0.99192508, 0.99024534, 1.00833369,\n",
       "       1.00047526, 0.96064214, 0.97449587, 1.00299383, 1.00161266])"
      ]
     },
     "execution_count": 11,
     "metadata": {},
     "output_type": "execute_result"
    }
   ],
   "source": [
    "theta_new"
   ]
  },
  {
   "cell_type": "code",
   "execution_count": 12,
   "metadata": {},
   "outputs": [
    {
     "data": {
      "text/plain": [
       "True"
      ]
     },
     "execution_count": 12,
     "metadata": {},
     "output_type": "execute_result"
    }
   ],
   "source": [
    "converged"
   ]
  },
  {
   "cell_type": "code",
   "execution_count": null,
   "metadata": {},
   "outputs": [],
   "source": []
  }
 ],
 "metadata": {
  "kernelspec": {
   "display_name": "Python 3",
   "language": "python",
   "name": "python3"
  },
  "language_info": {
   "codemirror_mode": {
    "name": "ipython",
    "version": 3
   },
   "file_extension": ".py",
   "mimetype": "text/x-python",
   "name": "python",
   "nbconvert_exporter": "python",
   "pygments_lexer": "ipython3",
   "version": "3.7.7"
  }
 },
 "nbformat": 4,
 "nbformat_minor": 4
}
